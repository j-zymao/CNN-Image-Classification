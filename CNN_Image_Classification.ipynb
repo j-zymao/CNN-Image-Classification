{
 "cells": [
  {
   "cell_type": "markdown",
   "metadata": {},
   "source": [
    "\n",
    "# CNN Image Classification\n",
    "## Cameron Swanson, Jessica Mao\n",
    "## 4/23/21\n",
    "\n",
    "\n",
    "__Dataset:__ Intel Image Classification.  Originally 25,000 images with multiple classes -- 3,000 images picked from two classes ('forest' and 'street') for the purposes of this problem.\n",
    "\n",
    "__Link:__ https://www.kaggle.com/puneet6060/intel-image-classification"
   ]
  },
  {
   "cell_type": "markdown",
   "metadata": {},
   "source": [
    "To begin, we'll import all our necessary libraries for both problems."
   ]
  },
  {
   "cell_type": "code",
   "execution_count": 148,
   "metadata": {},
   "outputs": [],
   "source": [
    "import keras\n",
    "from keras import models\n",
    "from keras import layers\n",
    "from keras import optimizers\n",
    "import PIL\n",
    "from PIL import Image, ImageOps\n",
    "import glob\n",
    "import numpy as np\n",
    "import pandas as pd\n",
    "import matplotlib.pyplot as plt\n",
    "from sklearn.utils import shuffle\n",
    "from sklearn.metrics import confusion_matrix\n",
    "from sklearn.preprocessing import MinMaxScaler"
   ]
  },
  {
   "cell_type": "markdown",
   "metadata": {},
   "source": [
    "### Loading Images -- 2400 training, 600 test, 50/50 class split\n",
    "\n",
    "Our first step is to __load our training and test images__, convert them to __grayscale__, and arrange them in __Numpy arrays__ of pixel values.  We'll also assign __numeric labels__ to each class -- class 0 represents 'forest' images, and class 1 represents 'street' images.  We'll print out the __shape__ of each array to confirm successful execution."
   ]
  },
  {
   "cell_type": "code",
   "execution_count": 130,
   "metadata": {},
   "outputs": [
    {
     "name": "stdout",
     "output_type": "stream",
     "text": [
      "(1200, 150, 150) (1200,)\n"
     ]
    }
   ],
   "source": [
    "# Training images - forest\n",
    "\n",
    "filepath = \"Intel\\\\train_forest\"\n",
    "\n",
    "imgs = []\n",
    "\n",
    "for file in glob.glob(filepath + \"\\\\*.jpg\"):\n",
    "    img = Image.open(file)\n",
    "    img = img.resize((150,150))\n",
    "    img = ImageOps.grayscale(img)\n",
    "    img_arr = np.array(img)\n",
    "    img_arr.reshape((150,150,1))\n",
    "    imgs.append(img_arr)\n",
    "X_train_forest = np.stack(imgs)\n",
    "y_train_forest = np.repeat(0,X_train_forest.shape[0])\n",
    "print(X_train_forest.shape, y_train_forest.shape)"
   ]
  },
  {
   "cell_type": "code",
   "execution_count": 131,
   "metadata": {},
   "outputs": [
    {
     "name": "stdout",
     "output_type": "stream",
     "text": [
      "(1200, 150, 150) (1200,)\n"
     ]
    }
   ],
   "source": [
    "# Training images - street\n",
    "\n",
    "filepath = \"Intel\\\\train_street\"\n",
    "\n",
    "imgs = []\n",
    "\n",
    "for file in glob.glob(filepath + \"\\\\*.jpg\"):\n",
    "    img = Image.open(file)\n",
    "    img = img.resize((150,150))\n",
    "    img = ImageOps.grayscale(img)\n",
    "    img_arr = np.array(img)\n",
    "    img_arr.reshape((150,150,1))\n",
    "    imgs.append(img_arr)\n",
    "X_train_street = np.stack(imgs)\n",
    "y_train_street = np.repeat(1,X_train_street.shape[0])\n",
    "print(X_train_street.shape, y_train_street.shape)"
   ]
  },
  {
   "cell_type": "code",
   "execution_count": 132,
   "metadata": {},
   "outputs": [
    {
     "name": "stdout",
     "output_type": "stream",
     "text": [
      "(300, 150, 150) (300,)\n"
     ]
    }
   ],
   "source": [
    "# Test images - forest\n",
    "\n",
    "filepath = \"Intel\\\\test_forest\"\n",
    "\n",
    "imgs = []\n",
    "\n",
    "for file in glob.glob(filepath + \"\\\\*.jpg\"):\n",
    "    img = Image.open(file)\n",
    "    img = img.resize((150,150))\n",
    "    img = ImageOps.grayscale(img)\n",
    "    img_arr = np.array(img)\n",
    "    img_arr.reshape((150,150,1))\n",
    "    imgs.append(img_arr)\n",
    "X_test_forest = np.stack(imgs)\n",
    "y_test_forest = np.repeat(0,X_test_forest.shape[0])\n",
    "print(X_test_forest.shape, y_test_forest.shape)"
   ]
  },
  {
   "cell_type": "code",
   "execution_count": 133,
   "metadata": {},
   "outputs": [
    {
     "name": "stdout",
     "output_type": "stream",
     "text": [
      "(300, 150, 150) (300,)\n"
     ]
    }
   ],
   "source": [
    "# Test images - street\n",
    "\n",
    "filepath = \"Intel\\\\test_street\"\n",
    "\n",
    "imgs = []\n",
    "\n",
    "for file in glob.glob(filepath + \"\\\\*.jpg\"):\n",
    "    img = Image.open(file)\n",
    "    img = img.resize((150,150))\n",
    "    img = ImageOps.grayscale(img)\n",
    "    img_arr = np.array(img)\n",
    "    img_arr.reshape((150,150,1))\n",
    "    imgs.append(img_arr)\n",
    "X_test_street = np.stack(imgs)\n",
    "y_test_street = np.repeat(1,X_test_street.shape[0])\n",
    "print(X_test_street.shape, y_test_street.shape)"
   ]
  },
  {
   "cell_type": "markdown",
   "metadata": {},
   "source": [
    "### Preprocessing\n",
    "\n",
    "Our next step is to __combine our arrays for each class__, such that we have one training set and one test set."
   ]
  },
  {
   "cell_type": "code",
   "execution_count": 134,
   "metadata": {},
   "outputs": [
    {
     "name": "stdout",
     "output_type": "stream",
     "text": [
      "(2400, 150, 150) (600, 150, 150)\n"
     ]
    }
   ],
   "source": [
    "X_train = np.concatenate([X_train_forest, X_train_street])\n",
    "X_test = np.concatenate([X_test_forest, X_test_street])\n",
    "print(X_train.shape, X_test.shape)"
   ]
  },
  {
   "cell_type": "code",
   "execution_count": 135,
   "metadata": {},
   "outputs": [
    {
     "name": "stdout",
     "output_type": "stream",
     "text": [
      "(2400,) (600,)\n"
     ]
    }
   ],
   "source": [
    "y_train = np.concatenate([y_train_forest, y_train_street])\n",
    "y_test = np.concatenate([y_test_forest, y_test_street])\n",
    "print(y_train.shape, y_test.shape)"
   ]
  },
  {
   "cell_type": "markdown",
   "metadata": {},
   "source": [
    "Now, we'll shuffle our image array before inputting them into the network."
   ]
  },
  {
   "cell_type": "code",
   "execution_count": 136,
   "metadata": {},
   "outputs": [],
   "source": [
    "X_train, y_train = shuffle(X_train, y_train, random_state = 123)"
   ]
  },
  {
   "cell_type": "markdown",
   "metadata": {},
   "source": [
    "Next, we __normalize our pixel values__ such that they fall between 0 and 1 -- this is to assist with training the neural network."
   ]
  },
  {
   "cell_type": "code",
   "execution_count": 137,
   "metadata": {},
   "outputs": [
    {
     "name": "stdout",
     "output_type": "stream",
     "text": [
      "(2400, 150, 150, 1) (600, 150, 150, 1)\n"
     ]
    }
   ],
   "source": [
    "X_train = X_train.astype('float32')\n",
    "X_train /= 255\n",
    "X_train = X_train.reshape(2400,150,150,1)\n",
    "\n",
    "\n",
    "X_test = X_test.astype('float32')\n",
    "X_test /= 255\n",
    "X_test = X_test.reshape(600,150,150,1)\n",
    "print(X_train.shape, X_test.shape)"
   ]
  },
  {
   "cell_type": "markdown",
   "metadata": {},
   "source": [
    "Finally, we __dummify our class labels__ before inputting them into the network."
   ]
  },
  {
   "cell_type": "code",
   "execution_count": 138,
   "metadata": {},
   "outputs": [
    {
     "name": "stdout",
     "output_type": "stream",
     "text": [
      "(2400, 2) (600, 2)\n"
     ]
    }
   ],
   "source": [
    "y_train = keras.utils.to_categorical(y_train, 2)\n",
    "y_test = keras.utils.to_categorical(y_test, 2)\n",
    "print(y_train.shape, y_test.shape)"
   ]
  },
  {
   "cell_type": "markdown",
   "metadata": {},
   "source": [
    "### Building the Network"
   ]
  },
  {
   "cell_type": "markdown",
   "metadata": {},
   "source": [
    "We'll build our network with __two Conv2D layers__ and __two pooling layers__.  We'll train it for __20 epochs__ with a validation split of 1/6."
   ]
  },
  {
   "cell_type": "code",
   "execution_count": 139,
   "metadata": {
    "scrolled": true
   },
   "outputs": [
    {
     "name": "stdout",
     "output_type": "stream",
     "text": [
      "Epoch 1/20\n",
      "32/32 [==============================] - 55s 2s/step - loss: 1.4588 - accuracy: 0.5571 - val_loss: 0.6060 - val_accuracy: 0.6000\n",
      "Epoch 2/20\n",
      "32/32 [==============================] - 47s 1s/step - loss: 0.4782 - accuracy: 0.7605 - val_loss: 0.3015 - val_accuracy: 0.8975\n",
      "Epoch 3/20\n",
      "32/32 [==============================] - 47s 1s/step - loss: 0.4120 - accuracy: 0.8618 - val_loss: 0.3090 - val_accuracy: 0.8500\n",
      "Epoch 4/20\n",
      "32/32 [==============================] - 46s 1s/step - loss: 0.4003 - accuracy: 0.8601 - val_loss: 0.2248 - val_accuracy: 0.9075\n",
      "Epoch 5/20\n",
      "32/32 [==============================] - 46s 1s/step - loss: 0.2763 - accuracy: 0.8855 - val_loss: 0.2436 - val_accuracy: 0.9075\n",
      "Epoch 6/20\n",
      "32/32 [==============================] - 45s 1s/step - loss: 0.2473 - accuracy: 0.8962 - val_loss: 0.6501 - val_accuracy: 0.7225\n",
      "Epoch 7/20\n",
      "32/32 [==============================] - 46s 1s/step - loss: 0.2387 - accuracy: 0.9128 - val_loss: 0.1670 - val_accuracy: 0.9425\n",
      "Epoch 8/20\n",
      "32/32 [==============================] - 53s 2s/step - loss: 0.1753 - accuracy: 0.9298 - val_loss: 0.4785 - val_accuracy: 0.7975\n",
      "Epoch 9/20\n",
      "32/32 [==============================] - 56s 2s/step - loss: 0.1464 - accuracy: 0.9342 - val_loss: 0.3207 - val_accuracy: 0.8650\n",
      "Epoch 10/20\n",
      "32/32 [==============================] - 68s 2s/step - loss: 0.1766 - accuracy: 0.9300 - val_loss: 0.1820 - val_accuracy: 0.9275\n",
      "Epoch 11/20\n",
      "32/32 [==============================] - 62s 2s/step - loss: 0.0791 - accuracy: 0.9873 - val_loss: 0.1819 - val_accuracy: 0.9100\n",
      "Epoch 12/20\n",
      "32/32 [==============================] - 60s 2s/step - loss: 0.0417 - accuracy: 0.9908 - val_loss: 0.1509 - val_accuracy: 0.9525\n",
      "Epoch 13/20\n",
      "32/32 [==============================] - 60s 2s/step - loss: 0.0471 - accuracy: 0.9913 - val_loss: 0.1677 - val_accuracy: 0.9500\n",
      "Epoch 14/20\n",
      "32/32 [==============================] - 60s 2s/step - loss: 0.0304 - accuracy: 0.9980 - val_loss: 0.1619 - val_accuracy: 0.9425\n",
      "Epoch 15/20\n",
      "32/32 [==============================] - 73s 2s/step - loss: 0.0948 - accuracy: 0.9727 - val_loss: 0.1593 - val_accuracy: 0.9500\n",
      "Epoch 16/20\n",
      "32/32 [==============================] - 54s 2s/step - loss: 0.0102 - accuracy: 0.9984 - val_loss: 0.1545 - val_accuracy: 0.9525\n",
      "Epoch 17/20\n",
      "32/32 [==============================] - 50s 2s/step - loss: 0.2079 - accuracy: 0.9524 - val_loss: 0.2161 - val_accuracy: 0.9275\n",
      "Epoch 18/20\n",
      "32/32 [==============================] - 51s 2s/step - loss: 0.0072 - accuracy: 0.9995 - val_loss: 0.1595 - val_accuracy: 0.9550\n",
      "Epoch 19/20\n",
      "32/32 [==============================] - 45s 1s/step - loss: 0.2194 - accuracy: 0.9734 - val_loss: 0.1757 - val_accuracy: 0.9450\n",
      "Epoch 20/20\n",
      "32/32 [==============================] - 45s 1s/step - loss: 0.0052 - accuracy: 1.0000 - val_loss: 0.1946 - val_accuracy: 0.9375\n"
     ]
    }
   ],
   "source": [
    "model = models.Sequential()\n",
    "model.add(layers.Conv2D(filters = 32,\n",
    "                       kernel_size = (3,3),\n",
    "                       activation = 'relu',\n",
    "                       input_shape = (150,150,1)))\n",
    "model.add(layers.MaxPooling2D(pool_size = (2,2)))\n",
    "model.add(layers.Conv2D(filters = 64,\n",
    "                       kernel_size = (3,3),\n",
    "                       activation = 'relu'))\n",
    "model.add(layers.MaxPooling2D(pool_size = (2,2)))\n",
    "model.add(layers.Flatten())\n",
    "model.add(layers.Dense(units = 64, activation = 'relu'))\n",
    "model.add(layers.Dense(units = 2, activation = 'softmax'))\n",
    "\n",
    "model.compile(optimizer = 'rmsprop', loss = 'categorical_crossentropy', metrics = ['accuracy'])\n",
    "network = model.fit(X_train, y_train, epochs = 20, batch_size = 64, validation_split = 1/6, verbose = 1)"
   ]
  },
  {
   "cell_type": "markdown",
   "metadata": {},
   "source": [
    "### 1.  Plot the loss and accuracy curves for training and validation sets."
   ]
  },
  {
   "cell_type": "code",
   "execution_count": 140,
   "metadata": {},
   "outputs": [
    {
     "data": {
      "image/png": "[encoded data removed]",
      "text/plain": [
       "<Figure size 432x288 with 1 Axes>"
      ]
     },
     "metadata": {
      "needs_background": "light"
     },
     "output_type": "display_data"
    }
   ],
   "source": [
    "plt.plot(network.history['loss'], label='train_loss')\n",
    "plt.plot(network.history['val_loss'], label='val_loss')\n",
    "plt.legend()\n",
    "plt.title('Loss Plot - Training vs. Validation')\n",
    "plt.show()"
   ]
  },
  {
   "cell_type": "code",
   "execution_count": 141,
   "metadata": {},
   "outputs": [
    {
     "data": {
      "image/png": "[encoded data removed]",
      "text/plain": [
       "<Figure size 432x288 with 1 Axes>"
      ]
     },
     "metadata": {
      "needs_background": "light"
     },
     "output_type": "display_data"
    }
   ],
   "source": [
    "plt.plot(network.history['accuracy'], label='train_accuracy')\n",
    "plt.plot(network.history['val_accuracy'], label='val_accuracy')\n",
    "plt.legend()\n",
    "plt.title('Accuracy Plot - Training vs. Validation')\n",
    "plt.show()"
   ]
  },
  {
   "cell_type": "markdown",
   "metadata": {},
   "source": [
    "### 2.  Explain if you observe any overfitting and why.\n",
    "\n",
    "Looking at the accuracy plot, it looks like there is __no overfitting__ -- as the __training accuracy__ continues to increase, the __validation accuracy does not increase__ (although it starts to converge as we pass about 10 epochs).  If the validation accuracy were to start increasing over epochs, then we would have overfitting, since it would indicate the network is not generalizing well to new data."
   ]
  },
  {
   "cell_type": "markdown",
   "metadata": {},
   "source": [
    "### 3.  Report the model accuracy on the test set.  Include the confusion matrix."
   ]
  },
  {
   "cell_type": "code",
   "execution_count": 142,
   "metadata": {},
   "outputs": [
    {
     "name": "stdout",
     "output_type": "stream",
     "text": [
      "19/19 [==============================] - 4s 206ms/step - loss: 0.2703 - accuracy: 0.9317\n",
      "\n",
      "Model accuracy on test set is 0.9316666722297668\n"
     ]
    }
   ],
   "source": [
    "score = model.evaluate(X_test, y_test)\n",
    "print('\\nModel', model.metrics_names[1],'on test set is', score[1])"
   ]
  },
  {
   "cell_type": "code",
   "execution_count": 143,
   "metadata": {},
   "outputs": [
    {
     "data": {
      "text/html": [
       "<div>\n",
       "<style scoped>\n",
       "    .dataframe tbody tr th:only-of-type {\n",
       "        vertical-align: middle;\n",
       "    }\n",
       "\n",
       "    .dataframe tbody tr th {\n",
       "        vertical-align: top;\n",
       "    }\n",
       "\n",
       "    .dataframe thead th {\n",
       "        text-align: right;\n",
       "    }\n",
       "</style>\n",
       "<table border=\"1\" class=\"dataframe\">\n",
       "  <thead>\n",
       "    <tr style=\"text-align: right;\">\n",
       "      <th></th>\n",
       "      <th>'Forest' Predicted</th>\n",
       "      <th>'Street' Predicted</th>\n",
       "    </tr>\n",
       "  </thead>\n",
       "  <tbody>\n",
       "    <tr>\n",
       "      <th>'Forest' Actual</th>\n",
       "      <td>285</td>\n",
       "      <td>15</td>\n",
       "    </tr>\n",
       "    <tr>\n",
       "      <th>'Street' Actual</th>\n",
       "      <td>26</td>\n",
       "      <td>274</td>\n",
       "    </tr>\n",
       "  </tbody>\n",
       "</table>\n",
       "</div>"
      ],
      "text/plain": [
       "                 'Forest' Predicted  'Street' Predicted\n",
       "'Forest' Actual                 285                  15\n",
       "'Street' Actual                  26                 274"
      ]
     },
     "execution_count": 143,
     "metadata": {},
     "output_type": "execute_result"
    }
   ],
   "source": [
    "y_pred = model.predict(X_test)\n",
    "y_pred = np.argmax(y_pred, axis = 1)\n",
    "\n",
    "y_test_class = []\n",
    "for row in y_test:\n",
    "    class_label = np.argmax(row)\n",
    "    y_test_class.append(class_label)\n",
    "y_test_class = np.asarray(y_test_class)\n",
    "\n",
    "conf_mat = pd.DataFrame(confusion_matrix(y_test_class, y_pred))\n",
    "conf_mat.columns = ['\\'Forest\\' Predicted', '\\'Street\\' Predicted']\n",
    "conf_mat.index = ['\\'Forest\\' Actual', '\\'Street\\' Actual']\n",
    "conf_mat"
   ]
  }
 ],
 "metadata": {
  "kernelspec": {
   "display_name": "Python 3 (ipykernel)",
   "language": "python",
   "name": "python3"
  },
  "language_info": {
   "codemirror_mode": {
    "name": "ipython",
    "version": 3
   },
   "file_extension": ".py",
   "mimetype": "text/x-python",
   "name": "python",
   "nbconvert_exporter": "python",
   "pygments_lexer": "ipython3",
   "version": "3.9.7"
  }
 },
 "nbformat": 4,
 "nbformat_minor": 4
}
